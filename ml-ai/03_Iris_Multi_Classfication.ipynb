{
 "cells": [
  {
   "cell_type": "code",
   "execution_count": 1,
   "metadata": {},
   "outputs": [],
   "source": [
    "# 아이리스 데이터셋을 불러와서 모델을 설정한 후 딥러닝을 실행합니다. \n",
    "# 이에 대한 결과를 출력합니다."
   ]
  },
  {
   "cell_type": "markdown",
   "metadata": {},
   "source": [
    "# 12장  다중 분류 문제 해결하기\n",
    "아이리스는 꽃잎의 모양과 길이에 따라 여러 가지 품종으로 나뉨.\n",
    "사진을 보면 품종마다 비슷해 보이는데 과연 딥러닝을 사용하여 이들을 구별해 낼 수 있을까? <br>\n",
    "<b>다중 분류 (multi classification) : </b> 우리가 앞서 다루었던 것과 중요한 차이는 바로 클래스가 2개가 아니라 3개임. 즉, 참(1)과 거짓(0)으로 해결하는 것이 아니라, 여러개 중에 어떤 것이 답인지를 예측하는 문제임"
   ]
  },
  {
   "cell_type": "code",
   "execution_count": 2,
   "metadata": {},
   "outputs": [],
   "source": [
    "from tensorflow.keras.models import Sequential\n",
    "from tensorflow.keras.layers import Dense\n",
    "from sklearn.preprocessing import LabelEncoder\n",
    "\n",
    "import pandas as pd\n",
    "import seaborn as sns\n",
    "import matplotlib.pyplot as plt\n",
    "import numpy as np\n",
    "import tensorflow as tf"
   ]
  },
  {
   "cell_type": "code",
   "execution_count": 3,
   "metadata": {},
   "outputs": [],
   "source": [
    "# 실행할 때마다 같은 결과를 출력하기 위해 설정하는 부분입니다.\n",
    "np.random.seed(3)\n",
    "tf.random.set_seed(3)\n",
    "\n",
    "# 데이터 입력\n",
    "df = pd.read_csv('/Users/crunky/Desktop/인딥개/12주차/dataset/iris.csv', names = [\"sepal_length\", \"sepal_width\", \"petal_length\", \"petal_width\", \"species\"])"
   ]
  },
  {
   "cell_type": "code",
   "execution_count": 4,
   "metadata": {},
   "outputs": [],
   "source": [
    "# 데이터 분류\n",
    "dataset = df.values\n",
    "X = dataset[:,0:4].astype(float)\n",
    "Y_obj = dataset[:,4]\n",
    "\n",
    "# 문자열을 숫자로 변환\n",
    "e = LabelEncoder()\n",
    "e.fit(Y_obj)\n",
    "Y = e.transform(Y_obj)\n",
    "\n",
    "Y_encoded = tf.keras.utils.to_categorical(Y)"
   ]
  },
  {
   "cell_type": "code",
   "execution_count": 5,
   "metadata": {},
   "outputs": [],
   "source": [
    "# 모델의 설정\n",
    "model = Sequential()\n",
    "model.add(Dense(16,  input_dim=4, activation='relu'))\n",
    "model.add(Dense(3, activation='softmax'))"
   ]
  },
  {
   "cell_type": "code",
   "execution_count": 6,
   "metadata": {},
   "outputs": [],
   "source": [
    "# 모델 컴파일\n",
    "model.compile(loss='categorical_crossentropy',\n",
    "            optimizer='adam',\n",
    "            metrics=['accuracy'])"
   ]
  },
  {
   "cell_type": "code",
   "execution_count": 7,
   "metadata": {},
   "outputs": [
    {
     "name": "stdout",
     "output_type": "stream",
     "text": [
      "Epoch 1/50\n",
      "150/150 [==============================] - 0s 455us/step - loss: 1.3259 - accuracy: 0.3333\n",
      "Epoch 2/50\n",
      "150/150 [==============================] - 0s 459us/step - loss: 0.8409 - accuracy: 0.6333\n",
      "Epoch 3/50\n",
      "150/150 [==============================] - 0s 447us/step - loss: 0.7110 - accuracy: 0.7267\n",
      "Epoch 4/50\n",
      "150/150 [==============================] - 0s 436us/step - loss: 0.6229 - accuracy: 0.6867\n",
      "Epoch 5/50\n",
      "150/150 [==============================] - 0s 434us/step - loss: 0.5542 - accuracy: 0.7933\n",
      "Epoch 6/50\n",
      "150/150 [==============================] - 0s 436us/step - loss: 0.4988 - accuracy: 0.9067\n",
      "Epoch 7/50\n",
      "150/150 [==============================] - 0s 442us/step - loss: 0.4562 - accuracy: 0.9133\n",
      "Epoch 8/50\n",
      "150/150 [==============================] - 0s 442us/step - loss: 0.4287 - accuracy: 0.9067\n",
      "Epoch 9/50\n",
      "150/150 [==============================] - 0s 444us/step - loss: 0.4006 - accuracy: 0.9267\n",
      "Epoch 10/50\n",
      "150/150 [==============================] - 0s 440us/step - loss: 0.3773 - accuracy: 0.9733\n",
      "Epoch 11/50\n",
      "150/150 [==============================] - 0s 451us/step - loss: 0.3569 - accuracy: 0.9267\n",
      "Epoch 12/50\n",
      "150/150 [==============================] - 0s 447us/step - loss: 0.3367 - accuracy: 0.9333\n",
      "Epoch 13/50\n",
      "150/150 [==============================] - 0s 444us/step - loss: 0.3272 - accuracy: 0.9600\n",
      "Epoch 14/50\n",
      "150/150 [==============================] - 0s 449us/step - loss: 0.3060 - accuracy: 0.9667\n",
      "Epoch 15/50\n",
      "150/150 [==============================] - 0s 443us/step - loss: 0.2920 - accuracy: 0.9667\n",
      "Epoch 16/50\n",
      "150/150 [==============================] - 0s 436us/step - loss: 0.2784 - accuracy: 0.9600\n",
      "Epoch 17/50\n",
      "150/150 [==============================] - 0s 445us/step - loss: 0.2697 - accuracy: 0.9600\n",
      "Epoch 18/50\n",
      "150/150 [==============================] - 0s 443us/step - loss: 0.2639 - accuracy: 0.9533\n",
      "Epoch 19/50\n",
      "150/150 [==============================] - 0s 454us/step - loss: 0.2473 - accuracy: 0.9733\n",
      "Epoch 20/50\n",
      "150/150 [==============================] - 0s 436us/step - loss: 0.2359 - accuracy: 0.9733\n",
      "Epoch 21/50\n",
      "150/150 [==============================] - 0s 440us/step - loss: 0.2274 - accuracy: 0.9733\n",
      "Epoch 22/50\n",
      "150/150 [==============================] - 0s 454us/step - loss: 0.2225 - accuracy: 0.9733\n",
      "Epoch 23/50\n",
      "150/150 [==============================] - 0s 456us/step - loss: 0.2106 - accuracy: 0.9733\n",
      "Epoch 24/50\n",
      "150/150 [==============================] - 0s 457us/step - loss: 0.2062 - accuracy: 0.9667\n",
      "Epoch 25/50\n",
      "150/150 [==============================] - 0s 457us/step - loss: 0.1939 - accuracy: 0.9800\n",
      "Epoch 26/50\n",
      "150/150 [==============================] - 0s 445us/step - loss: 0.1896 - accuracy: 0.9733\n",
      "Epoch 27/50\n",
      "150/150 [==============================] - 0s 443us/step - loss: 0.1832 - accuracy: 0.9667\n",
      "Epoch 28/50\n",
      "150/150 [==============================] - 0s 443us/step - loss: 0.1683 - accuracy: 0.9800\n",
      "Epoch 29/50\n",
      "150/150 [==============================] - 0s 450us/step - loss: 0.1714 - accuracy: 0.9667\n",
      "Epoch 30/50\n",
      "150/150 [==============================] - 0s 459us/step - loss: 0.1693 - accuracy: 0.9667\n",
      "Epoch 31/50\n",
      "150/150 [==============================] - 0s 440us/step - loss: 0.1619 - accuracy: 0.9733\n",
      "Epoch 32/50\n",
      "150/150 [==============================] - 0s 446us/step - loss: 0.1555 - accuracy: 0.9667\n",
      "Epoch 33/50\n",
      "150/150 [==============================] - 0s 440us/step - loss: 0.1515 - accuracy: 0.9800\n",
      "Epoch 34/50\n",
      "150/150 [==============================] - 0s 450us/step - loss: 0.1458 - accuracy: 0.9667\n",
      "Epoch 35/50\n",
      "150/150 [==============================] - 0s 446us/step - loss: 0.1427 - accuracy: 0.9733\n",
      "Epoch 36/50\n",
      "150/150 [==============================] - 0s 453us/step - loss: 0.1421 - accuracy: 0.9667\n",
      "Epoch 37/50\n",
      "150/150 [==============================] - 0s 442us/step - loss: 0.1321 - accuracy: 0.9667\n",
      "Epoch 38/50\n",
      "150/150 [==============================] - 0s 437us/step - loss: 0.1348 - accuracy: 0.9667\n",
      "Epoch 39/50\n",
      "150/150 [==============================] - 0s 445us/step - loss: 0.1274 - accuracy: 0.9800\n",
      "Epoch 40/50\n",
      "150/150 [==============================] - 0s 438us/step - loss: 0.1313 - accuracy: 0.9667\n",
      "Epoch 41/50\n",
      "150/150 [==============================] - 0s 439us/step - loss: 0.1227 - accuracy: 0.9733\n",
      "Epoch 42/50\n",
      "150/150 [==============================] - 0s 442us/step - loss: 0.1212 - accuracy: 0.9733\n",
      "Epoch 43/50\n",
      "150/150 [==============================] - 0s 438us/step - loss: 0.1201 - accuracy: 0.9800\n",
      "Epoch 44/50\n",
      "150/150 [==============================] - 0s 448us/step - loss: 0.1156 - accuracy: 0.9667\n",
      "Epoch 45/50\n",
      "150/150 [==============================] - 0s 448us/step - loss: 0.1205 - accuracy: 0.9600\n",
      "Epoch 46/50\n",
      "150/150 [==============================] - 0s 451us/step - loss: 0.1142 - accuracy: 0.9667\n",
      "Epoch 47/50\n",
      "150/150 [==============================] - 0s 447us/step - loss: 0.1148 - accuracy: 0.9667\n",
      "Epoch 48/50\n",
      "150/150 [==============================] - 0s 461us/step - loss: 0.1099 - accuracy: 0.9667\n",
      "Epoch 49/50\n",
      "150/150 [==============================] - 0s 448us/step - loss: 0.1084 - accuracy: 0.9667\n",
      "Epoch 50/50\n",
      "150/150 [==============================] - 0s 463us/step - loss: 0.1112 - accuracy: 0.9533\n"
     ]
    },
    {
     "data": {
      "text/plain": [
       "<tensorflow.python.keras.callbacks.History at 0x7fb2f68bfc10>"
      ]
     },
     "execution_count": 7,
     "metadata": {},
     "output_type": "execute_result"
    }
   ],
   "source": [
    "# 모델 실행\n",
    "model.fit(X, Y_encoded, epochs=50, batch_size=1)"
   ]
  },
  {
   "cell_type": "code",
   "execution_count": 8,
   "metadata": {},
   "outputs": [
    {
     "name": "stdout",
     "output_type": "stream",
     "text": [
      "5/5 [==============================] - 0s 1ms/step - loss: 0.1024 - accuracy: 0.9733\n",
      "\n",
      " Accuracy: 0.9733\n"
     ]
    }
   ],
   "source": [
    "# 결과 출력\n",
    "print(\"\\n Accuracy: %.4f\" % (model.evaluate(X, Y_encoded)[1]))"
   ]
  },
  {
   "cell_type": "code",
   "execution_count": 9,
   "metadata": {},
   "outputs": [
    {
     "name": "stdout",
     "output_type": "stream",
     "text": [
      "Model: \"sequential\"\n",
      "_________________________________________________________________\n",
      "Layer (type)                 Output Shape              Param #   \n",
      "=================================================================\n",
      "dense (Dense)                (None, 16)                80        \n",
      "_________________________________________________________________\n",
      "dense_1 (Dense)              (None, 3)                 51        \n",
      "=================================================================\n",
      "Total params: 131\n",
      "Trainable params: 131\n",
      "Non-trainable params: 0\n",
      "_________________________________________________________________\n",
      "('You must install pydot (`pip install pydot`) and install graphviz (see instructions at https://graphviz.gitlab.io/download/) ', 'for plot_model/model_to_dot to work.')\n"
     ]
    }
   ],
   "source": [
    "#from tensorflow import keras\n",
    "\n",
    "model.summary()\n",
    "tf.keras.utils.plot_model(model, \"myModel.png\", show_shapes=True)"
   ]
  },
  {
   "cell_type": "code",
   "execution_count": null,
   "metadata": {},
   "outputs": [],
   "source": []
  },
  {
   "cell_type": "code",
   "execution_count": null,
   "metadata": {},
   "outputs": [],
   "source": []
  },
  {
   "cell_type": "code",
   "execution_count": null,
   "metadata": {},
   "outputs": [],
   "source": []
  }
 ],
 "metadata": {
  "kernelspec": {
   "display_name": "Python 3",
   "language": "python",
   "name": "python3"
  },
  "language_info": {
   "codemirror_mode": {
    "name": "ipython",
    "version": 3
   },
   "file_extension": ".py",
   "mimetype": "text/x-python",
   "name": "python",
   "nbconvert_exporter": "python",
   "pygments_lexer": "ipython3",
   "version": "3.8.5"
  }
 },
 "nbformat": 4,
 "nbformat_minor": 2
}
