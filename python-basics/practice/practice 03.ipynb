{
 "cells": [
  {
   "cell_type": "markdown",
   "metadata": {},
   "source": [
    "# 실습과제"
   ]
  },
  {
   "cell_type": "markdown",
   "metadata": {},
   "source": [
    "1. 30초 마다 자동으로 비밀번호를 생성하는 함수를 만들어라.(중간)<br/><br/>\n",
    "조건<br/>\n",
    "(1) random.sample(range(0,10),6) 함수를 써서 6자리 비밀번호를 자동으로 랜덤하게 생성<br/>\n",
    "(2) 30초 마다 자동으로 생성 (time 모듈 활용 및 time.sleep 함수 사용)<br/>\n",
    "(3) 바뀐 비밀번호를 출력하는 create_password_30()함수와 비밀번호를 만드는 create_password() 함수를 만들어서 사용하라."
   ]
  },
  {
   "cell_type": "code",
   "execution_count": 1,
   "metadata": {},
   "outputs": [
    {
     "name": "stdout",
     "output_type": "stream",
     "text": [
      "106587\n",
      "534970\n",
      "926451\n"
     ]
    }
   ],
   "source": [
    "import time\n",
    "import random\n",
    "\n",
    "def create_password():\n",
    "    pw_list = random.sample(range(0,10), 6)\n",
    "    pw = ''\n",
    "    for i in pw_list:\n",
    "        pw += str(i)\n",
    "    return pw\n",
    "\n",
    "def create_password_30():\n",
    "    i = 0\n",
    "    while True:\n",
    "        cur_password = create_password()\n",
    "        print(cur_password)\n",
    "        time.sleep(30)\n",
    "        i += 1\n",
    "        if i == 3:\n",
    "            break\n",
    "\n",
    "create_password_30()       "
   ]
  },
  {
   "cell_type": "markdown",
   "metadata": {},
   "source": [
    "2. 괄호('(', ')')를 열고 닫고 하는 부분은 프로그래밍 함수를 하면서 중요한 부분입니다.(중간)<br/>\n",
    "hello()는 맞고, hello()(, hello()())는 틀린 부분입니다.<br/>\n",
    "이와 같이 괄호를 열고 닫는 것을 체크하는 함수를 만들어 보세요.<br/><br/>\n",
    "print(is_pair('(hello')()))<br/>\n",
    "True<br/>\n",
    "print(is_pair('hello')()))     <br/>\n",
    "False"
   ]
  },
  {
   "cell_type": "code",
   "execution_count": 1,
   "metadata": {},
   "outputs": [
    {
     "name": "stdout",
     "output_type": "stream",
     "text": [
      "True\n"
     ]
    }
   ],
   "source": [
    "def is_pair(str):\n",
    "    ip = True\n",
    "    cnt = 0\n",
    "    for i in str:\n",
    "        if i == '(': \n",
    "            cnt += 1\n",
    "        elif i == ')': \n",
    "            cnt -= 1\n",
    "        \n",
    "    if cnt != 0: \n",
    "        ip = False \n",
    "    return ip\n",
    "\n",
    "print(is_pair('(hello)()'))     "
   ]
  },
  {
   "cell_type": "markdown",
   "metadata": {},
   "source": [
    "3. 10이상 20이하의 정수형 난수를 4개 발생시켜서 이들의 평균이 15이상이면 Big아니면 Small을 출력하라.(쉬움)<br/><br/>\n",
    "random 모듈 사용\n",
    "\n",
    "4 numbers : [20, 11, 13, 19]<br/>\n",
    "mean:  15.75<br/>\n",
    "Big"
   ]
  },
  {
   "cell_type": "code",
   "execution_count": 2,
   "metadata": {},
   "outputs": [
    {
     "name": "stdout",
     "output_type": "stream",
     "text": [
      "4 numbers : [20, 11, 13, 19]\n",
      "mean:  15.75\n",
      "Big\n"
     ]
    }
   ],
   "source": [
    "import random\n",
    "numbers = range(10,21)\n",
    "\n",
    "rand_nums = [random.choice(numbers) for i in range(0, 4)]  \n",
    "print('4 numbers :', rand_nums)\n",
    "\n",
    "mean = sum(rand_nums)/len(rand_nums)\n",
    "print('mean: ', mean)\n",
    "if mean >= 15: print('Big')\n",
    "else: print('Small')"
   ]
  },
  {
   "cell_type": "markdown",
   "metadata": {},
   "source": [
    "4. 1부터 최대 정해진 시간까지 출력하는데 걸리는 시간을 측정하는 프로그램을 완성하라. (쉬움)<br/><br/>\n",
    "\n",
    "lot_of_numbers(100000000) <br/>\n",
    "it took 1.8879530429840088 seconds"
   ]
  },
  {
   "cell_type": "code",
   "execution_count": 3,
   "metadata": {},
   "outputs": [
    {
     "name": "stdout",
     "output_type": "stream",
     "text": [
      "it took 1.8879530429840088 seconds\n"
     ]
    }
   ],
   "source": [
    "import time\n",
    "\n",
    "def lot_of_numbers(max):\n",
    "    t1 = time.time()\n",
    "    for x in range(0, max):\n",
    "        pass\n",
    "    t2 = time.time()\n",
    "    print('it took %s seconds' % (t2-t1))\n",
    "\n",
    "lot_of_numbers(100000000)    "
   ]
  },
  {
   "cell_type": "markdown",
   "metadata": {},
   "source": [
    "5. 자기 스스로에게 돌아오는 함수를 재귀함수라고 한다. 자신에서 자신으로 돌아와서 실행하는 함수이다.(쉬움)<br/><br/>\n",
    "\n",
    "def factorial(n):<br/>\n",
    "&nbsp;&nbsp;&nbsp;&nbsp;    if n == 1:<br/>\n",
    "&nbsp;&nbsp;&nbsp;&nbsp;&nbsp;&nbsp;&nbsp;&nbsp;        return 1<br/>\n",
    "&nbsp;&nbsp;&nbsp;&nbsp;    else:<br/>\n",
    "&nbsp;&nbsp;&nbsp;&nbsp;&nbsp;&nbsp;&nbsp;&nbsp;        return(n * factorial(n-1))<br/>\n",
    "<br/>\n",
    "print(factorial(10)) <br/>\n",
    "<br/>\n",
    "숫자를 세는 countdown 함수를 만들고 10에서 1로 줄어들게 하라<br/>\n",
    "<br/>\n",
    "10<br/>\n",
    "9<br/>\n",
    "8<br/>\n",
    "7<br/>\n",
    "6<br/>\n",
    "5<br/>\n",
    "4<br/>\n",
    "3<br/>\n",
    "2<br/>\n",
    "1<br/>\n",
    "break"
   ]
  },
  {
   "cell_type": "code",
   "execution_count": 1,
   "metadata": {},
   "outputs": [
    {
     "name": "stdout",
     "output_type": "stream",
     "text": [
      "10\n",
      "9\n",
      "8\n",
      "7\n",
      "6\n",
      "5\n",
      "4\n",
      "3\n",
      "2\n",
      "1\n",
      "break\n"
     ]
    }
   ],
   "source": [
    "def countdown(n):    \n",
    "    if n == 0:\n",
    "        print('break')\n",
    "    else:\n",
    "        print(n)\n",
    "        countdown(n - 1)\n",
    "\n",
    "countdown(10)        "
   ]
  },
  {
   "cell_type": "markdown",
   "metadata": {},
   "source": [
    "6. 여학생 3명, 남학생 3명이 일렬로 설 때, 여학생이 서로 이웃하지 않게 서는 모든 경우의 수를 구하라.(어려움)<br/><br/>\n",
    "\n",
    "여기서 from itertools import permutation 모듈을 사용하라."
   ]
  },
  {
   "cell_type": "code",
   "execution_count": null,
   "metadata": {},
   "outputs": [],
   "source": [
    "from itertools import permutations\n",
    "\n",
    "girl = [1, 2, 3]; boy = [4, 5, 6, 7]\n",
    "all = boy + girl; size = len(all)\n",
    "cnt = 0\n",
    "list_perm = permutations(all)\n",
    "\n",
    "for line in list_perm:\n",
    "    is_not = True\n",
    "    for i in range(size-1):\n",
    "        if line[i] in girl and line[i+1] in girl:\n",
    "            is_not = False\n",
    "            break\n",
    "    if is_not:\n",
    "        cnt += 1\n",
    "\n",
    "print(cnt)   "
   ]
  },
  {
   "cell_type": "markdown",
   "metadata": {},
   "source": [
    "7. 100000!(factorial)을 구하는 시간과 10의 100000승을 구하는 시간을 구하고, 두 작업 시간간 비율은 어느 정도인가?(쉬움)<br/><br/>\n",
    "\n",
    "factorial time:  2.7875473499298096<br/>\n",
    "quotient time:  6.207403898239136<br/>\n",
    "ratio:  0.4490681443687848"
   ]
  },
  {
   "cell_type": "code",
   "execution_count": 6,
   "metadata": {},
   "outputs": [
    {
     "name": "stdout",
     "output_type": "stream",
     "text": [
      "factorial time:  2.7875473499298096\n",
      "quotient time:  6.207403898239136\n",
      "ratio:  0.4490681443687848\n"
     ]
    }
   ],
   "source": [
    "import time\n",
    "\n",
    "t1 = time.time()\n",
    "n = 1\n",
    "\n",
    "for i in range(100000):\n",
    "    n *= (i+1)\n",
    "\n",
    "t2 = time.time()\n",
    "print('factorial time: ', t2 - t1)\n",
    "\n",
    "for j in range(100000):\n",
    "    n *= 10\n",
    "\n",
    "t3 = time.time()\n",
    "print('quotient time: ', t3 - t2)\n",
    "\n",
    "print('ratio: ', (t2-t1)/(t3-t2))"
   ]
  },
  {
   "cell_type": "markdown",
   "metadata": {},
   "source": [
    "8. datetime 모듈 객체를 사용해서 현재 시각과 현재부터 1000일 후의 시간을 출력하는 프로그램을 작성하라.(쉬움)<br/><br/>\n",
    "\n",
    "2021-04-30 15:53:49.828760<br/>\n",
    "2024-01-25 15:53:49.828760"
   ]
  },
  {
   "cell_type": "code",
   "execution_count": 7,
   "metadata": {},
   "outputs": [
    {
     "name": "stdout",
     "output_type": "stream",
     "text": [
      "2021-04-30 15:53:49.828760\n",
      "2024-01-25 15:53:49.828760\n"
     ]
    }
   ],
   "source": [
    "import datetime\n",
    "\n",
    "now = datetime.datetime.now()\n",
    "print(now)\n",
    "dayafter1000 = now + datetime.timedelta(1000)\n",
    "print(dayafter1000)"
   ]
  },
  {
   "cell_type": "code",
   "execution_count": null,
   "metadata": {},
   "outputs": [],
   "source": []
  }
 ],
 "metadata": {
  "kernelspec": {
   "display_name": "Python 3",
   "language": "python",
   "name": "python3"
  },
  "language_info": {
   "codemirror_mode": {
    "name": "ipython",
    "version": 3
   },
   "file_extension": ".py",
   "mimetype": "text/x-python",
   "name": "python",
   "nbconvert_exporter": "python",
   "pygments_lexer": "ipython3",
   "version": "3.6.8"
  }
 },
 "nbformat": 4,
 "nbformat_minor": 2
}
