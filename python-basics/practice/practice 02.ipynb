{
 "cells": [
  {
   "cell_type": "markdown",
   "metadata": {},
   "source": [
    "# 실습과제"
   ]
  },
  {
   "cell_type": "markdown",
   "metadata": {},
   "source": [
    "1. 30초 마다 자동으로 비밀번호를 생성하는 함수를 만들어라.(중간)<br/><br/>\n",
    "조건<br/>\n",
    "(1) random.sample(range(0,10),6) 함수를 써서 6자리 비밀번호를 자동으로 랜덤하게 생성<br/>\n",
    "(2) 30초 마다 자동으로 생성 (time 모듈 활용 및 time.sleep 함수 사용)<br/>\n",
    "(3) 바뀐 비밀번호를 출력하는 create_password_30()함수와 비밀번호를 만드는 create_password() 함수를 만들어서 사용하라."
   ]
  },
  {
   "cell_type": "code",
   "execution_count": 1,
   "metadata": {},
   "outputs": [
    {
     "name": "stdout",
     "output_type": "stream",
     "text": [
      "614385\n",
      "539608\n",
      "784061\n"
     ]
    }
   ],
   "source": [
    "import random\n",
    "import time\n",
    "\n",
    "def create_password():\n",
    "    password = []\n",
    "    password += random.sample(range(0,10),6)\n",
    "    password = list(map(str, password)) \n",
    "    print(''.join(password))\n",
    "\n",
    "def create_password_30():\n",
    "    for i in range(3):     # 무한반복하고 싶다면 while True: 사용\n",
    "        time.sleep(30)      # 30초 잠자기\n",
    "        create_password()\n",
    "\n",
    "create_password_30()"
   ]
  },
  {
   "cell_type": "markdown",
   "metadata": {},
   "source": [
    "2. 괄호('(', ')')를 열고 닫고 하는 부분은 프로그래밍 함수를 하면서 중요한 부분입니다.(중간)<br/>\n",
    "hello()는 맞고, hello()(, hello()())는 틀린 부분입니다.<br/>\n",
    "이와 같이 괄호를 열고 닫는 것을 체크하는 함수를 만들어 보세요.<br/><br/>\n",
    "print(is_pair('(hello)()'))<br/>\n",
    "True<br/>\n",
    "print(is_pair('hello)()'))     <br/>\n",
    "False"
   ]
  },
  {
   "cell_type": "code",
   "execution_count": 2,
   "metadata": {},
   "outputs": [
    {
     "name": "stdout",
     "output_type": "stream",
     "text": [
      "True\n",
      "False\n"
     ]
    }
   ],
   "source": [
    "def is_pair(s):\n",
    "    pair = []\n",
    "    for ch in s:\n",
    "        if ch == \"(\":\n",
    "            pair.append(ch)\n",
    "        elif ch == \")\":\n",
    "            try:\n",
    "                pair.pop()\n",
    "            except IndexError:\n",
    "                return False\n",
    "\n",
    "    return len(pair) == 0\n",
    "\n",
    "\n",
    "print(is_pair('(hello)()'))\n",
    "print(is_pair('hello)()'))"
   ]
  },
  {
   "cell_type": "markdown",
   "metadata": {},
   "source": [
    "3. 10이상 20이하의 정수형 난수를 4개 발생시켜서 이들의 평균이 15이상이면 Big아니면 Small을 출력하라.(쉬움)<br/><br/>\n",
    "random 모듈 사용\n",
    "\n",
    "4 numbers : [20, 11, 13, 19]<br/>\n",
    "mean:  15.75<br/>\n",
    "Big"
   ]
  },
  {
   "cell_type": "code",
   "execution_count": 3,
   "metadata": {
    "scrolled": true
   },
   "outputs": [
    {
     "name": "stdout",
     "output_type": "stream",
     "text": [
      "4 numbers : [18, 16, 10, 17]\n",
      "mean:  15.25\n",
      "Big\n"
     ]
    }
   ],
   "source": [
    "import random\n",
    "\n",
    "list_1 =  random.sample(range(10,21),4)\n",
    "print(\"4 numbers :\",list_1)\n",
    "\n",
    "def average(list_1):\n",
    "    return sum(list_1) / len(list_1)\n",
    "\n",
    "print(\"mean: \",average(list_1))\n",
    "\n",
    "if average(list_1) >= 15:\n",
    "    print(\"Big\")\n",
    "else:\n",
    "    print(\"Small\")"
   ]
  },
  {
   "cell_type": "markdown",
   "metadata": {},
   "source": [
    "4. 1부터 최대 정해진 시간까지 출력하는데 걸리는 시간을 측정하는 프로그램을 완성하라. (쉬움)<br/><br/>\n",
    "\n",
    "lot_of_numbers(100000000) <br/>\n",
    "it took 1.8879530429840088 seconds"
   ]
  },
  {
   "cell_type": "code",
   "execution_count": 4,
   "metadata": {},
   "outputs": [
    {
     "name": "stdout",
     "output_type": "stream",
     "text": [
      "100000000\n",
      "time : 0.0002880096435546875\n"
     ]
    }
   ],
   "source": [
    "import time\n",
    "start = time.time()  # 시작 시간 저장\n",
    " \n",
    "# 작업 코드\n",
    "lot_of_numbers = '100000000'\n",
    "print(lot_of_numbers)\n",
    " \n",
    "print(\"time :\", time.time() - start)"
   ]
  },
  {
   "cell_type": "markdown",
   "metadata": {},
   "source": [
    "5. 자기 스스로에게 돌아오는 함수를 재귀함수라고 한다. 자신에서 자신으로 돌아와서 실행하는 함수이다.(쉬움)<br/><br/>\n",
    "\n",
    "def factorial(n):<br/>\n",
    "&nbsp;&nbsp;&nbsp;&nbsp;    if n == 1:<br/>\n",
    "&nbsp;&nbsp;&nbsp;&nbsp;&nbsp;&nbsp;&nbsp;&nbsp;        return 1<br/>\n",
    "&nbsp;&nbsp;&nbsp;&nbsp;    else:<br/>\n",
    "&nbsp;&nbsp;&nbsp;&nbsp;&nbsp;&nbsp;&nbsp;&nbsp;        return(n * factorial(n-1))<br/>\n",
    "<br/>\n",
    "print(factorial(10)) <br/>\n",
    "<br/>\n",
    "숫자를 세는 countdown 함수를 만들고 10에서 1로 줄어들게 하라<br/>\n",
    "<br/>\n",
    "10<br/>\n",
    "9<br/>\n",
    "8<br/>\n",
    "7<br/>\n",
    "6<br/>\n",
    "5<br/>\n",
    "4<br/>\n",
    "3<br/>\n",
    "2<br/>\n",
    "1<br/>\n",
    "break"
   ]
  },
  {
   "cell_type": "code",
   "execution_count": 5,
   "metadata": {},
   "outputs": [
    {
     "name": "stdout",
     "output_type": "stream",
     "text": [
      "10\n",
      "9\n",
      "8\n",
      "7\n",
      "6\n",
      "5\n",
      "4\n",
      "3\n",
      "2\n",
      "1\n",
      "break\n"
     ]
    }
   ],
   "source": [
    "def countdown(n):\n",
    "    if n == 0 :\n",
    "        print('break')\n",
    "    else:\n",
    "        print(n)\n",
    "        countdown(n-1)\n",
    "\n",
    "countdown(10)"
   ]
  },
  {
   "cell_type": "markdown",
   "metadata": {},
   "source": [
    "6. 여학생 3명, 남학생 3명이 일렬로 설 때, 여학생이 서로 이웃하지 않게 서는 모든 경우의 수를 구하라.(어려움)<br/><br/>\n",
    "\n",
    "여기서 from itertools import permutation 모듈을 사용하라."
   ]
  },
  {
   "cell_type": "code",
   "execution_count": 6,
   "metadata": {},
   "outputs": [
    {
     "name": "stdout",
     "output_type": "stream",
     "text": [
      "144\n"
     ]
    }
   ],
   "source": [
    "import itertools\n",
    "\n",
    "women = ['여1', '여2', '여3']\n",
    "men = ['남1', '남2', '남3']\n",
    "\n",
    "def p(n):\n",
    "    return itertools.permutations(n, 3)\n",
    "\n",
    "def c(n):\n",
    "    k = women\n",
    "    k.append('+')\n",
    "    return itertools.combinations(k, 3)\n",
    "\n",
    "first = len(list(p(women)))\n",
    "second = len(list(p(men)))\n",
    "third = len(list(c(women)))\n",
    "\n",
    "print(first*second*third)"
   ]
  },
  {
   "cell_type": "markdown",
   "metadata": {},
   "source": [
    "7. 100000!(factorial)을 구하는 시간과 10의 100000승을 구하는 시간을 구하고, 두 작업 시간간 비율은 어느 정도인가?(쉬움)<br/><br/>\n",
    "\n",
    "factorial time:  2.7875473499298096<br/>\n",
    "quotient time:  6.207403898239136<br/>\n",
    "ratio:  0.4490681443687848"
   ]
  },
  {
   "cell_type": "code",
   "execution_count": 7,
   "metadata": {},
   "outputs": [
    {
     "name": "stdout",
     "output_type": "stream",
     "text": [
      "factorial time: 2.306002140045166\n",
      "quotient time: 0.004137992858886719\n",
      "ratio 557.2755243143581\n"
     ]
    }
   ],
   "source": [
    "import time\n",
    "\n",
    "start = time.time()  # 시작 시간 저장\n",
    "def factorial(n):\n",
    "    if n == 1 or n == 2:\n",
    "        return n\n",
    "    else:\n",
    "        result = 1\n",
    "        while n > 1:\n",
    "            result *= n\n",
    "            n -= 1\n",
    "        return result\n",
    "\n",
    "factorial(100000)\n",
    "a = time.time() - start\n",
    "print(\"factorial time:\", a)\n",
    "\n",
    "re_start = time.time()  # 시작 시간 저장\n",
    "def quotient(n):\n",
    "    return n**100000\n",
    "quotient(10)\n",
    "b = time.time() - re_start\n",
    "print(\"quotient time:\", b)\n",
    "\n",
    "print(\"ratio\",a/b)"
   ]
  },
  {
   "cell_type": "markdown",
   "metadata": {},
   "source": [
    "8. datetime 모듈 객체를 사용해서 현재 시각과 현재부터 1000일 후의 시간을 출력하는 프로그램을 작성하라.(쉬움)<br/><br/>\n",
    "\n",
    "2021-04-30 15:53:49.828760<br/>\n",
    "2024-01-25 15:53:49.828760"
   ]
  },
  {
   "cell_type": "code",
   "execution_count": 8,
   "metadata": {},
   "outputs": [
    {
     "name": "stdout",
     "output_type": "stream",
     "text": [
      "2021-06-05 17:47:12.432504\n",
      "2024-03-01 17:47:12.432504\n"
     ]
    }
   ],
   "source": [
    "import datetime\n",
    "\n",
    "now = datetime.datetime.now()\n",
    "print(now) \n",
    "\n",
    "now_after_1000 = now + datetime.timedelta(days=1000)\n",
    "print(now_after_1000)"
   ]
  }
 ],
 "metadata": {
  "kernelspec": {
   "display_name": "Python 3",
   "language": "python",
   "name": "python3"
  },
  "language_info": {
   "codemirror_mode": {
    "name": "ipython",
    "version": 3
   },
   "file_extension": ".py",
   "mimetype": "text/x-python",
   "name": "python",
   "nbconvert_exporter": "python",
   "pygments_lexer": "ipython3",
   "version": "3.8.5"
  }
 },
 "nbformat": 4,
 "nbformat_minor": 2
}
