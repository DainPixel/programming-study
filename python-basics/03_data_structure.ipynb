{
  "cells": [
    {
      "cell_type": "markdown",
      "metadata": {
        "id": "vIrI2mfEnwPw"
      },
      "source": [
        "**실습 1**"
      ]
    },
    {
      "cell_type": "code",
      "execution_count": 1,
      "metadata": {
        "colab": {
          "base_uri": "https://localhost:8080/",
          "height": 0
        },
        "id": "GOwMfTtXnOO-",
        "outputId": "e8cfec41-c5d3-49ef-e608-7401efeed52a"
      },
      "outputs": [
        {
          "name": "stdout",
          "output_type": "stream",
          "text": [
            "1\n",
            "3\n",
            "9\n",
            "9\n"
          ]
        }
      ],
      "source": [
        "empty=[]\n",
        "number=[1,2,3]\n",
        "strings = ['new', 'face']\n",
        "numAndStr = [1,2,3,'new','face']\n",
        "listInlist = [[1,3,5], [2,4,6]]\n",
        "odd = [1,3,5,7,9]\n",
        "odd[0]\n",
        "odd[1]\n",
        "odd[4]\n",
        "odd[-1]\n",
        "print(odd[0])\n",
        "print(odd[1])\n",
        "print(odd[4])\n",
        "print(odd[-1])"
      ]
    },
    {
      "cell_type": "markdown",
      "metadata": {
        "id": "clqr4KJ7nwY3"
      },
      "source": [
        "**실습 2**"
      ]
    },
    {
      "cell_type": "code",
      "execution_count": 3,
      "metadata": {
        "colab": {
          "base_uri": "https://localhost:8080/",
          "height": 0
        },
        "id": "2FEu0h5roKlk",
        "outputId": "7728f6d5-f38b-430e-c4a6-a995e4cd237f"
      },
      "outputs": [
        {
          "name": "stdout",
          "output_type": "stream",
          "text": [
            "[0, 0, 0, 0]\n",
            "[0, 0, 0, 0]\n",
            "4\n"
          ]
        }
      ],
      "source": [
        "aa = []\n",
        "aa.append(0)\n",
        "aa.append(0)\n",
        "aa.append(0)\n",
        "aa.append(0)\n",
        "print(aa)\n",
        "aa = []\n",
        "for i in range(0, 4) :\n",
        "  aa.append(0)\n",
        "    \n",
        "print(aa)\n",
        "print(len(aa))\n",
        "#다섯 번째 원소에 접근\n",
        "#print(aa[4])"
      ]
    },
    {
      "cell_type": "markdown",
      "metadata": {
        "id": "-IawQerWnwfe"
      },
      "source": [
        "**실습 5**"
      ]
    },
    {
      "cell_type": "code",
      "execution_count": 4,
      "metadata": {
        "colab": {
          "base_uri": "https://localhost:8080/",
          "height": 0
        },
        "id": "MYn2KV2moWEu",
        "outputId": "e04aad7a-b9ed-4856-c6ad-087eb1421c0a"
      },
      "outputs": [
        {
          "name": "stdout",
          "output_type": "stream",
          "text": [
            "aa[-1]은 40, aa[-2]은 30\n",
            "[10, 20, 30]\n",
            "[30, 40]\n",
            "[30, 40]\n",
            "[10, 20]\n",
            "[10, 20, 30, 40, 50, 60]\n",
            "[10, 20, 30, 10, 20, 30, 10, 20, 30]\n",
            "[10, 20, 30]\n",
            "[40, 50, 60]\n"
          ]
        }
      ],
      "source": [
        "aa = [10, 20, 30, 40]\n",
        "print(\"aa[-1]은 %d, aa[-2]은 %d\" %(aa[-1], aa[-2]))\n",
        "print(aa[0:3])\n",
        "print(aa[2:4])\n",
        "print(aa[2:])\n",
        "print(aa[:2])\n",
        "aa = [10, 20, 30]\n",
        "bb = [40, 50, 60]\n",
        "print(aa + bb)\n",
        "print(aa *3)\n",
        "print(aa)\n",
        "print(bb)"
      ]
    },
    {
      "cell_type": "markdown",
      "metadata": {
        "id": "gT5chNeInwvR"
      },
      "source": [
        "**실습 6**"
      ]
    },
    {
      "cell_type": "code",
      "execution_count": 5,
      "metadata": {
        "colab": {
          "base_uri": "https://localhost:8080/",
          "height": 0
        },
        "id": "-s6OPwmhodOi",
        "outputId": "e6f8ce7c-f0bc-48e2-f598-d4e1de410cc8"
      },
      "outputs": [
        {
          "name": "stdout",
          "output_type": "stream",
          "text": [
            "현재 리스트 : [30, 10, 20]\n",
            "append(40) 후의 리스트 : [30, 10, 20, 40]\n",
            "pop()으로 추출한 값 : 40\n",
            "pop() 후의 리스트 : [30, 10, 20]\n",
            "sort() 후의 리스트 : [10, 20, 30]\n",
            "reverse() 후의 리스트 : [30, 20, 10]\n",
            "20값의 위치 : 1\n",
            "insert(2, 222) 후의 리스트 : [30, 20, 222, 10]\n",
            "remove(222) 후의 리스트 : [30, 20, 10]\n",
            "extend([77, 88, 77]) 후의 리스트 : [30, 20, 10, 77, 88, 77]\n",
            "77값의 개수 : 2\n"
          ]
        }
      ],
      "source": [
        "myList = [30, 10, 20]\n",
        "print(\"현재 리스트 : %s\" % myList)\n",
        "myList.append(40)\n",
        "print(\"append(40) 후의 리스트 : %s\" % myList)\n",
        "print(\"pop()으로 추출한 값 : %s\" % myList.pop())\n",
        "print(\"pop() 후의 리스트 : %s\" % myList)\n",
        "myList.sort()\n",
        "print(\"sort() 후의 리스트 : %s\" % myList)\n",
        "myList.reverse()\n",
        "print(\"reverse() 후의 리스트 : %s\" % myList)\n",
        "print(\"20값의 위치 : %d\" % myList.index(20))\n",
        "myList.insert(2, 222)\n",
        "print(\"insert(2, 222) 후의 리스트 : %s\" % myList)\n",
        "myList.remove(222)\n",
        "print(\"remove(222) 후의 리스트 : %s\" % myList)\n",
        "myList.extend( [77, 88, 77] )\n",
        "print(\"extend([77, 88, 77]) 후의 리스트 : %s\" % myList)\n",
        "print(\"77값의 개수 : %d\" % myList.count(77))"
      ]
    },
    {
      "cell_type": "markdown",
      "metadata": {
        "id": "PQFzOHSInwlR"
      },
      "source": [
        "**2차원 리스트**"
      ]
    },
    {
      "cell_type": "code",
      "execution_count": 6,
      "metadata": {
        "colab": {
          "base_uri": "https://localhost:8080/",
          "height": 0
        },
        "id": "0191sSBMolOt",
        "outputId": "935733fb-e1aa-427b-b236-5c191d9a623e"
      },
      "outputs": [
        {
          "name": "stdout",
          "output_type": "stream",
          "text": [
            "  1   2   3   4 \n",
            "  5   6   7   8 \n",
            "  9  10  11  12 \n"
          ]
        }
      ],
      "source": [
        "list1 = []\n",
        "list2 = []\n",
        "value=1\n",
        "for i in range(0, 3) :\n",
        "  for k in range(0, 4) :\n",
        "    list1.append(value)\n",
        "    value += 1\n",
        "  list2.append(list1)\n",
        "  list1 = []\n",
        "for i in range(0, 3) :\n",
        "  for k in range(0, 4) :\n",
        "    print(\"%3d\" % list2[i][k], end = \" \")\n",
        "  print(\"\")"
      ]
    },
    {
      "cell_type": "markdown",
      "metadata": {
        "id": "-lFRnHP6n_vy"
      },
      "source": [
        "**딕셔너리 실습**"
      ]
    },
    {
      "cell_type": "code",
      "execution_count": 1,
      "metadata": {
        "colab": {
          "base_uri": "https://localhost:8080/",
          "height": 0
        },
        "id": "q3qFbPKqo2kI",
        "outputId": "c1ce3b81-41df-4307-dfdc-01a66938b820"
      },
      "outputs": [
        {
          "name": "stdout",
          "output_type": "stream",
          "text": [
            "{'학번': 1000, '이름': '홍길동', '학과': '컴퓨터학과'}\n",
            "{'학번': 1000, '이름': '홍길동', '학과': '컴퓨터학과', '연락처': '010-1111-2222'}\n",
            "{'학번': 1000, '이름': '홍길동', '학과': '파이썬학과', '연락처': '010-1111-2222'}\n",
            "{'학번': 1000, '이름': '홍길동', '연락처': '010-1111-2222'}\n",
            "{'학번': 2000, '이름': '홍길동', '학과': '파이썬학과'}\n",
            "2000\n",
            "홍길동\n",
            "파이썬학과\n",
            "홍길동\n",
            "None\n",
            "dict_keys(['학번', '이름', '학과'])\n",
            "['학번', '이름', '학과']\n",
            "dict_values([2000, '홍길동', '파이썬학과'])\n",
            "dict_items([('학번', 2000), ('이름', '홍길동'), ('학과', '파이썬학과')])\n",
            "True\n",
            "False\n"
          ]
        }
      ],
      "source": [
        "#여러 정보의 딕셔너리 표현\n",
        "student1 = {\"학번\":1000, \"이름\":\"홍길동\", \"학과\": \"컴퓨터학과\" }\n",
        "print(student1)\n",
        "#student1에 연락처 추가\n",
        "student1['연락처'] = '010-1111-2222'\n",
        "print(student1)\n",
        "#학과 수정\n",
        "student1['학과'] = '파이썬학과'\n",
        "print(student1)\n",
        "#student1의 학과 삭제\n",
        "del(student1['학과'])\n",
        "print(student1)\n",
        "student1 = {\"학번\":1000, \"이름\":\"홍길동\", \"학과\": \"파이썬학과\",\"학번\":2000 }\n",
        "print(student1)\n",
        "print(student1['학번'])\n",
        "print(student1['이름'])\n",
        "print(student1['학과'])\n",
        "#딕셔너리명.get(키) 함수를 사용해 키로 값에 접근\n",
        "print(student1.get('이름'))\n",
        "#없는 키를 찾을 때 딕셔너리명.get(키)를 사용\n",
        "#print(student1['주소'])\n",
        "print(student1.get('주소'))\n",
        "#딕셔너리명.keys()는 딕셔너리의 모든 키 반환\n",
        "print(student1.keys())\n",
        "print(list(student1.keys()))\n",
        "print(student1.values())\n",
        "#딕셔너리명.items() 함수를 사용하면 튜플 형태로도 구할 수 있음\n",
        "print(student1.items())\n",
        "print('이름' in student1)\n",
        "print('주소' in student1)"
      ]
    },
    {
      "cell_type": "code",
      "execution_count": null,
      "metadata": {},
      "outputs": [],
      "source": [
        "#변수 선언\n",
        "result = 0\n",
        "\n",
        "#1에서 100 사이 수 중에서 7의 배수\n",
        "for n in range(1, 100):\n",
        "    if n % 7 == 0 : \n",
        "        result += n\n",
        "        \n",
        "#결과 출력\n",
        "print('0과 100 사이의 수 중에서 7의 배수의 합:', result)"
      ]
    },
    {
      "cell_type": "code",
      "execution_count": null,
      "metadata": {},
      "outputs": [],
      "source": [
        "#변수 선언\n",
        "dan, i, k, guguLine = 0, 0, 0, \"\"\n",
        "\n",
        "#사용자의 입력\n",
        "dan = int(input(\"출력을 시작할 단 입력:\"))\n",
        "\n",
        "#오류 메세지\n",
        "while dan > 9 or dan < 2:\n",
        "  print('입력한 단수의 값이 잘못되었습니다. \\n다시 입력해주세요 (입력할 값의 범위: 2~9')\n",
        "  dan = int(input(\"출력을 시작할 단 입력:\"))\n",
        "\n",
        "#상단 단 제목\n",
        "for i in range(dan, 1, -1) :\n",
        "  guguLine = guguLine + (\" - %d단 - \" % i)\n",
        "print(guguLine)\n",
        "\n",
        "#역순으로 결과 출력\n",
        "for i in range(9, 0, -1) :\n",
        "  guguLine = \"\"\n",
        "  for k in range (dan, 1, -1) :\n",
        "    guguLine = guguLine + str(\"%2dX%2d= %2d\" % (k, i, k*i))\n",
        "  print(guguLine)"
      ]
    },
    {
      "cell_type": "code",
      "execution_count": null,
      "metadata": {},
      "outputs": [],
      "source": [
        "trial = 2  #2번 실행\n",
        "while trial > 0:\n",
        "  a1 = input('행렬의 행과 열을 입력하시오(예)2,5:')  #사용자의 입력\n",
        "  a2 = list(map(int, a1.split(',')))\n",
        "  list1 = []  #리스트 생성\n",
        "  list2 = []\n",
        "  value=0  #시작값\n",
        "  for i in range(0, a2[0]) :\n",
        "    for k in range(0, a2[1]) :\n",
        "      list1.append(value)\n",
        "      value += 3  #3의 배수\n",
        "    list2.append(list1)  #리스트2에 추가\n",
        "    list1 = []\n",
        "  print(list2)  #리스트 출력\n",
        "  trial -= 1  #실행 수 감소"
      ]
    },
    {
      "cell_type": "code",
      "execution_count": null,
      "metadata": {},
      "outputs": [],
      "source": [
        "trial = 2  #2번 실행\n",
        "while trial > 0:\n",
        "\n",
        "  s = input('Input String: ')  #사용자의 입력\n",
        "  result = s[0]  #첫번째 값을 결과에 넣기\n",
        "  count  = 0\n",
        "\n",
        "  for st in s:\n",
        "    if st == result[-1]:  \n",
        "      count += 1  #같을 때 count 추가\n",
        "    else:\n",
        "      result += str(count) + st\n",
        "      count = 1  #다를 땐 count 동일\n",
        "  result += str(count)\n",
        "\n",
        "  print(result)\n",
        "  trial -= 1  #실행 수 감소"
      ]
    },
    {
      "cell_type": "code",
      "execution_count": null,
      "metadata": {},
      "outputs": [],
      "source": [
        "while True:  #반복\n",
        "  a = int(input(\"*** 양의 정수를 입력하세요 : \"))  #사용자의 입력\n",
        "  b = 0\n",
        "  if a<0:  #양수가 아닐 때\n",
        "    print('범위에 맞는 입력 값을 입력하세요...')  #오류 메세지\n",
        "  else:\n",
        "    for i in range(2,a):\n",
        "      if a%i==0:\n",
        "        b=1\n",
        "    if b == 0:  #소수일 때\n",
        "      print('%d는 소수입니다.'%a)\n",
        "      break\n",
        "    else:  #소수가 아닐 때\n",
        "      print('%d는 소수가 아닙니다.'%a)"
      ]
    }
  ],
  "metadata": {
    "colab": {
      "collapsed_sections": [],
      "name": "파이썬과데이터분석_실습3_융합콘텐츠학과_김다인_1944005.ipynb",
      "provenance": []
    },
    "kernelspec": {
      "display_name": "Python 3",
      "name": "python3"
    },
    "language_info": {
      "name": "python"
    }
  },
  "nbformat": 4,
  "nbformat_minor": 0
}
