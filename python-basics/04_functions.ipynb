{
  "cells": [
    {
      "cell_type": "markdown",
      "metadata": {
        "id": "eDkjU_nnClCe"
      },
      "source": [
        "**함수를 사용한 경우**"
      ]
    },
    {
      "cell_type": "code",
      "execution_count": 2,
      "metadata": {
        "colab": {
          "base_uri": "https://localhost:8080/"
        },
        "id": "04KYEOpRCnPY",
        "outputId": "d0afab32-ed4b-43e0-ffd7-7e80a5289283"
      },
      "outputs": [
        {
          "name": "stdout",
          "output_type": "stream",
          "text": [
            "어떤 커피 드릴까요?(1:보통, 2:설탕, 3:블랙)1\n",
            "\n",
            "#1. (자동으로) 뜨거운 물을 준비한다.\n",
            "#2. (자동으로) 종이컵을 준비한다.\n",
            "#3. (자동으로) 보통커피를 탄다.\n",
            "#4. (자동으로) 물을 붓는다.\n",
            "#5. (자동으로) 스푼으로 젓는다.\n",
            "\n",
            "손님~ 커피 여기 있습니다.\n",
            "어떤 커피 드릴까요?(1:보통, 2:설탕, 3:블랙)3\n",
            "\n",
            "#1. (자동으로) 뜨거운 물을 준비한다.\n",
            "#2. (자동으로) 종이컵을 준비한다.\n",
            "#3. (자동으로) 블랙커피를 탄다.\n",
            "#4. (자동으로) 물을 붓는다.\n",
            "#5. (자동으로) 스푼으로 젓는다.\n",
            "\n",
            "손님~ 커피 여기 있습니다.\n"
          ]
        }
      ],
      "source": [
        "# 함수를 사용한 경우\n",
        "## 전역 변수 선언 부분 ##\n",
        "coffee = 0\n",
        "\n",
        "## 함수 선언 부분 ##\n",
        "def coffee_machine(button) :\n",
        "  print()\n",
        "  print(\"#1. (자동으로) 뜨거운 물을 준비한다.\")\n",
        "  print(\"#2. (자동으로) 종이컵을 준비한다.\")\n",
        "\n",
        "  if button == 1 :\n",
        "    print(\"#3. (자동으로) 보통커피를 탄다.\")\n",
        "  elif button == 2 :\n",
        "    print(\"#3. (자동으로) 설탕커피를 탄다.\")\n",
        "  elif button == 3 :\n",
        "    print(\"#3. (자동으로) 블랙커피를 탄다.\")\n",
        "  else :\n",
        "    print(\"#3. (자동으로) 아무거나 탄다.\\n\")\n",
        "\n",
        "  print(\"#4. (자동으로) 물을 붓는다.\")\n",
        "  print(\"#5. (자동으로) 스푼으로 젓는다.\")\n",
        "  print()\n",
        "\n",
        "## 메인 코드 부분 ##\n",
        "coffee = int(input(\"어떤 커피 드릴까요?(1:보통, 2:설탕, 3:블랙)\"))\n",
        "coffee_machine(coffee)\n",
        "print(\"손님~ 커피 여기 있습니다.\")\n",
        "\n",
        "coffee = int(input(\"어떤 커피 드릴까요?(1:보통, 2:설탕, 3:블랙)\"))\n",
        "coffee_machine(coffee)\n",
        "print(\"손님~ 커피 여기 있습니다.\")"
      ]
    },
    {
      "cell_type": "markdown",
      "metadata": {
        "id": "T9chV95rCEHt"
      },
      "source": [
        "**실습 5**"
      ]
    },
    {
      "cell_type": "code",
      "execution_count": 4,
      "metadata": {
        "colab": {
          "base_uri": "https://localhost:8080/"
        },
        "id": "-tC02BUkD4Gh",
        "outputId": "3879b0dc-07e2-48c7-9a0b-4d49118a9a8b"
      },
      "outputs": [
        {
          "name": "stdout",
          "output_type": "stream",
          "text": [
            "계산을 입력하세요(+, -, *, /) : *\n",
            "첫 번째 수를 입력하세요 : 7\n",
            "두 번째 수를 입력하세요 : 5\n",
            "## 계산기 : 7 * 5 = 35\n"
          ]
        }
      ],
      "source": [
        "## 함수 선언 부분 ##\n",
        "def calc(v1, v2, op):\n",
        "  result = 0\n",
        "  if op == '+':\n",
        "    result = v1 + v2\n",
        "  elif op == '-':\n",
        "    result = v1 - v2\n",
        "  elif op == '*':\n",
        "    result = v1 * v2\n",
        "  elif op == '/':\n",
        "    result = v1 / v2\n",
        "\n",
        "  return result\n",
        "\n",
        "## 전역 변수 선언 부분 ##\n",
        "res = 0\n",
        "var1, var2, oper = 0, 0, \"\"\n",
        "\n",
        "## 메인 코드 부분 ##\n",
        "oper = input(\"계산을 입력하세요(+, -, *, /) : \")\n",
        "var1 = int(input(\"첫 번째 수를 입력하세요 : \"))\n",
        "var2 = int(input(\"두 번째 수를 입력하세요 : \"))\n",
        "\n",
        "res = calc(var1, var2, oper)\n",
        "\n",
        "print(\"## 계산기 : %d %s %d = %d\" % (var1, oper, var2, res))"
      ]
    },
    {
      "cell_type": "markdown",
      "metadata": {
        "id": "0vGHHuxmCGdb"
      },
      "source": [
        "**실습 7**"
      ]
    },
    {
      "cell_type": "code",
      "execution_count": 5,
      "metadata": {
        "colab": {
          "base_uri": "https://localhost:8080/"
        },
        "id": "LoE_WgJIFVU0",
        "outputId": "580ca2e2-4607-4556-91fa-e04a37380d5e"
      },
      "outputs": [
        {
          "name": "stdout",
          "output_type": "stream",
          "text": [
            "multi()에서 돌려준 값 ==> 300, -100\n"
          ]
        }
      ],
      "source": [
        "## 함수 선언 부분 ##\n",
        "def multi(v1, v2):\n",
        "  retList = [] # 반환할 리스트\n",
        "  res1 = v1 + v2\n",
        "  res2 = v1 - v2\n",
        "  retList.append(res1)\n",
        "  retList.append(res2)\n",
        "  return retList\n",
        "  # return a, b\n",
        "\n",
        "## 전역 변수 선언 부분 ##\n",
        "myList = []\n",
        "hap, sub = 0, 0\n",
        "\n",
        "## 메인 코드 부분 ##\n",
        "myList = multi(100, 200)\n",
        "#a1,b2 = multi(100, 200)\n",
        "hap = myList[0]\n",
        "sub = myList[1]\n",
        "print(\"multi()에서 돌려준 값 ==> %d, %d\" % (hap, sub))"
      ]
    },
    {
      "cell_type": "markdown",
      "metadata": {
        "id": "GsesbWsqCJAr"
      },
      "source": [
        "**실습 8**"
      ]
    },
    {
      "cell_type": "code",
      "execution_count": 6,
      "metadata": {
        "colab": {
          "base_uri": "https://localhost:8080/"
        },
        "id": "KofFy_OdBqQj",
        "outputId": "8f35d546-79f4-4d99-a0a1-7802af305d83"
      },
      "outputs": [
        {
          "name": "stdout",
          "output_type": "stream",
          "text": [
            "func1()에서 a값 10\n",
            "func2()에서 a값 10\n"
          ]
        }
      ],
      "source": [
        "## 함수 선언 부분 ##\n",
        "def func1() :\n",
        "  global a  # 이 함수 안에서 a는 전역 변수\n",
        "  a = 10\n",
        "  print(\"func1()에서 a값 %d\" % a)\n",
        "\n",
        "def func2() :\n",
        "  print(\"func2()에서 a값 %d\" % a)\n",
        "\n",
        "## 함수 변수 선언 부분 ##\n",
        "a = 20      # 전역 변수\n",
        "\n",
        "## 메인 코드 부분 ##\n",
        "func1()\n",
        "func2()"
      ]
    },
    {
      "cell_type": "code",
      "execution_count": null,
      "metadata": {},
      "outputs": [],
      "source": [
        "## 함수 정의 ##\n",
        "\n",
        "def make_board():       # 2차원 리스트 생성하는 함수\n",
        "    global list1, list2\n",
        "    list1 = []\n",
        "    list2 = []\n",
        "    value= ' '\n",
        "    for i in range(0, 3) :\n",
        "        for k in range(0, 3) :\n",
        "            list1.append(value)\n",
        "        list2.append(list1)\n",
        "        list1 = []\n",
        "\n",
        "def display_board():        # 현재 상태 출력하는 함수\n",
        "    for i in range(0, 3) :\n",
        "        print(list2[i])\n",
        "    print(\"========================\")       # 구분선 출력\n",
        "\n",
        "def play(mark):     # 플레이어 위치 입력받아서 저장하는 함수\n",
        "    while True:\n",
        "        a, b = map(int,input('행렬의 행과 열을 입력하시오(예)0, 1:').split(', '))     #사용자의 입력\n",
        "        if a < 0 and a > 2 and b > 2 and b < 0:     #범위 벗어남\n",
        "            continue\n",
        "        if a >= 0 and a <= 2 and b <= 2 and b >= 0:     #범위 맞음\n",
        "            if 'X' in list2[a][b] or 'O' in list2[a][b]:     #이미 값 존재\n",
        "                print('이미 표기한 칸입니다. 다시 선택하세요.')\n",
        "                continue\n",
        "            list2[a][b] = mark     # 리스트에 저장\n",
        "            break\n",
        "\n",
        "global victory      # 변수 설정\n",
        "victory = 0\n",
        "\n",
        "def check_win(mark):        # 승자 판단 함수\n",
        "    global victory\n",
        "    victory = 0\n",
        "    if list2[0][0] == list2[0][1] == list2[0][2] == mark:       # 0행\n",
        "        print(\"%s player가 승리했습니다.\"%mark)\n",
        "        victory = 1\n",
        "    elif list2[1][0] == list2[1][1]  == list2[1][2]  == mark:     # 1행\n",
        "        print(\"%s player가 승리했습니다.\"%mark)\n",
        "        victory = 1\n",
        "    elif list2[2][0] == list2[2][1] == list2[2][2] == mark:      # 2행 \n",
        "        print(\"%s player가 승리했습니다.\"%mark)\n",
        "        victory = 1\n",
        "    elif list2[0][0] == list2[1][0] == list2[2][0] == mark:     # 0열\n",
        "        print(\"%s player가 승리했습니다.\"%mark)\n",
        "        victory = 1\n",
        "    elif list2[0][1] == list2[1][1] == list2[2][1] == mark:        # 1열\n",
        "        print(\"%s player가 승리했습니다.\"%mark)\n",
        "        victory = 1\n",
        "    elif list2[0][2] == list2[1][2] == list2[2][2] == mark:     # 2열\n",
        "        print(\"%s player가 승리했습니다.\"%mark)\n",
        "        victory = 1\n",
        "    elif list2[0][0] == list2[1][1] == list2[2][2] == mark:        # 대각선\n",
        "        print(\"%s player가 승리했습니다.\"%mark)\n",
        "        victory = 1\n",
        "    elif list2[0][2] == list2[1][1] == list2[2][0] == mark:        # 대각선\n",
        "        print(\"%s player가 승리했습니다.\"%mark)\n",
        "        victory = 1\n",
        "\n",
        "## 메인 실행 코드 ##\n",
        "\n",
        "make_board()        # 2차원 리스트 생성\n",
        "display_board()     # 화면에 표시    \n",
        "print('X player 부터 게임을 시작합니다.')       # 시작하는 말\n",
        "n = 9       # 9번 실행 후 종료\n",
        "while n > 0:        \n",
        "    if victory == 0:        # X 차례\n",
        "        play('X')\n",
        "        display_board()\n",
        "        check_win('X')\n",
        "        n -= 1\n",
        "        if victory == 0 and n == 0 :     # 무승부일 때\n",
        "            print('무승부 입니다.')\n",
        "            break       # 종료\n",
        "        if victory == 0:        # O 차례\n",
        "            play('O')\n",
        "            display_board()\n",
        "            check_win('O')\n",
        "            n -= 1\n",
        "    elif victory == 1:      # 이겼을 때\n",
        "        break       # 종료"
      ]
    },
    {
      "cell_type": "code",
      "execution_count": null,
      "metadata": {},
      "outputs": [],
      "source": [
        "## 함수 정의 ##\n",
        "\n",
        "def make_board():       # 2차원 리스트 생성하는 함수\n",
        "    global list1, list2\n",
        "    list1 = []\n",
        "    list2 = []\n",
        "    value= ' '\n",
        "    for i in range(0, 3) :\n",
        "        for k in range(0, 3) :\n",
        "            list1.append(value)\n",
        "        list2.append(list1)\n",
        "        list1 = []\n",
        "\n",
        "def display_board():        # 현재 상태 출력하는 함수\n",
        "    for i in range(0, 3) :\n",
        "        print(list2[i])\n",
        "    print(\"========================\")       # 구분선 출력\n",
        "\n",
        "def play(mark):     # 플레이어 위치 입력받아서 저장하는 함수\n",
        "    while True:\n",
        "        a, b = map(int,input('행렬의 행과 열을 입력하시오(예)0, 1:').split(', '))     #사용자의 입력\n",
        "        if a < 0 and a > 2 and b > 2 and b < 0:     #범위 벗어남\n",
        "            continue\n",
        "        if a >= 0 and a <= 2 and b <= 2 and b >= 0:     #범위 맞음\n",
        "            if 'X' in list2[a][b] or 'O' in list2[a][b]:     #이미 값 존재\n",
        "                print('이미 표기한 칸입니다. 다시 선택하세요.')\n",
        "                continue\n",
        "            list2[a][b] = mark     # 리스트에 저장\n",
        "            break\n",
        "\n",
        "global victory      # 변수 설정\n",
        "victory = 0\n",
        "\n",
        "def check_win(mark):        # 승자 판단 함수\n",
        "    global victory\n",
        "    victory = 0\n",
        "    if list2[0][0] == list2[0][1] == list2[0][2] == mark:       # 0행\n",
        "        print(\"%s player가 승리했습니다.\"%mark)\n",
        "        victory = 1\n",
        "    elif list2[1][0] == list2[1][1]  == list2[1][2]  == mark:     # 1행\n",
        "        print(\"%s player가 승리했습니다.\"%mark)\n",
        "        victory = 1\n",
        "    elif list2[2][0] == list2[2][1] == list2[2][2] == mark:      # 2행 \n",
        "        print(\"%s player가 승리했습니다.\"%mark)\n",
        "        victory = 1\n",
        "    elif list2[0][0] == list2[1][0] == list2[2][0] == mark:     # 0열\n",
        "        print(\"%s player가 승리했습니다.\"%mark)\n",
        "        victory = 1\n",
        "    elif list2[0][1] == list2[1][1] == list2[2][1] == mark:        # 1열\n",
        "        print(\"%s player가 승리했습니다.\"%mark)\n",
        "        victory = 1\n",
        "    elif list2[0][2] == list2[1][2] == list2[2][2] == mark:     # 2열\n",
        "        print(\"%s player가 승리했습니다.\"%mark)\n",
        "        victory = 1\n",
        "    elif list2[0][0] == list2[1][1] == list2[2][2] == mark:        # 대각선\n",
        "        print(\"%s player가 승리했습니다.\"%mark)\n",
        "        victory = 1\n",
        "    elif list2[0][2] == list2[1][1] == list2[2][0] == mark:        # 대각선\n",
        "        print(\"%s player가 승리했습니다.\"%mark)\n",
        "        victory = 1\n",
        "\n",
        "## 메인 실행 코드 ##\n",
        "\n",
        "make_board()        # 2차원 리스트 생성\n",
        "display_board()     # 화면에 표시    \n",
        "print('X player 부터 게임을 시작합니다.')       # 시작하는 말\n",
        "n = 9       # 9번 실행 후 종료\n",
        "while n > 0:        \n",
        "    if victory == 0:        # X 차례\n",
        "        play('X')\n",
        "        display_board()\n",
        "        check_win('X')\n",
        "        n -= 1\n",
        "        if victory == 0 and n == 0 :     # 무승부일 때\n",
        "            print('무승부 입니다.')\n",
        "            break       # 종료\n",
        "        if victory == 0:        # O 차례\n",
        "            play('O')\n",
        "            display_board()\n",
        "            check_win('O')\n",
        "            n -= 1\n",
        "    elif victory == 1:      # 이겼을 때\n",
        "        break       # 종료"
      ]
    }
  ],
  "metadata": {
    "colab": {
      "collapsed_sections": [],
      "name": "파이썬과데이터분석_실습4_융합콘텐츠학과_김다인_1944005.ipynb",
      "provenance": []
    },
    "kernelspec": {
      "display_name": "Python 3",
      "name": "python3"
    },
    "language_info": {
      "name": "python"
    }
  },
  "nbformat": 4,
  "nbformat_minor": 0
}
