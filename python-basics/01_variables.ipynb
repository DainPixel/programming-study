{
  "cells": [
    {
      "cell_type": "markdown",
      "metadata": {
        "id": "U2bXOAE8-ejE"
      },
      "source": [
        "**01 변수**"
      ]
    },
    {
      "cell_type": "code",
      "execution_count": 1,
      "metadata": {
        "colab": {
          "base_uri": "https://localhost:8080/"
        },
        "id": "dDRIqrW56TpD",
        "outputId": "1c30ef31-8a5a-4aa1-abdd-4435728b11b8"
      },
      "outputs": [
        {
          "name": "stdout",
          "output_type": "stream",
          "text": [
            "<class 'int'>\n",
            "<class 'float'>\n"
          ]
        }
      ],
      "source": [
        "boolVar = True\n",
        "intVar_ = 0\n",
        "floatVar1 = 0.0\n",
        "str = \"\"\n",
        "#_int = 1\n",
        "#1_int = 1 숫자로 시작하면 안 됨\n",
        "\n",
        "myVar = 100\n",
        "print(type(myVar))\n",
        "myVar = 100.0\n",
        "print(type(myVar))"
      ]
    },
    {
      "cell_type": "code",
      "execution_count": 2,
      "metadata": {
        "colab": {
          "base_uri": "https://localhost:8080/"
        },
        "id": "R7xsX8O2_jl2",
        "outputId": "f22bc8e1-184c-429f-80d8-af8ad57ca771"
      },
      "outputs": [
        {
          "name": "stdout",
          "output_type": "stream",
          "text": [
            "94777430795872\n",
            "94777430795872\n",
            "94777430794272\n",
            "94777430794272\n",
            "94777430794272\n",
            "94777430794272\n"
          ]
        }
      ],
      "source": [
        "a =100\n",
        "b = 50\n",
        "\n",
        "\n",
        "print(id(a))\n",
        "print(id(100))\n",
        "print(id(b))\n",
        "print(id(50))\n",
        "a= 50\n",
        "print(id(a))\n",
        "print(id(b))"
      ]
    },
    {
      "cell_type": "markdown",
      "metadata": {
        "id": "F9Jb0iyFCpIp"
      },
      "source": [
        "**04 문자형**"
      ]
    },
    {
      "cell_type": "code",
      "execution_count": 7,
      "metadata": {
        "colab": {
          "base_uri": "https://localhost:8080/"
        },
        "id": "TKN6AreHCTzt",
        "outputId": "a940c1c6-672b-4565-b13a-531d6c61df44"
      },
      "outputs": [
        {
          "name": "stdout",
          "output_type": "stream",
          "text": [
            "파이썬 만세\n",
            "<class 'str'>\n",
            "작은따옴표는 ' 모양이다\n",
            "큰따옴표는 \" 모양이다\n",
            "이건 큰따옴표는 \" 모양이다 이건 작은따옴표는 ' 모양이다\n",
            "파이썬 \n",
            "만세\n",
            "파이썬\n",
            "만세\n",
            "=======================\n",
            "01234567890123456789012\n",
            "currency exchange rates\n",
            "=======================\n",
            "c\n",
            "u\n",
            "s\n",
            "e\n",
            "y excha\n"
          ]
        }
      ],
      "source": [
        "a = \"파이썬 만세\"\n",
        "\n",
        "print(a)\n",
        "print(type(a))\n",
        "\n",
        "print(\"작은따옴표는 ' 모양이다\")\n",
        "print('큰따옴표는 \" 모양이다')\n",
        "\n",
        "\n",
        "a = \"이건 큰따옴표는 \\\" 모양이다\"\n",
        "b = '이건 작은따옴표는 \\' 모양이다'\n",
        "print(a, b)\n",
        "\n",
        "a = '파이썬 \\n만세'\n",
        "print(a)\n",
        "\n",
        "a = \"\"\"파이썬\n",
        "만세\"\"\"\n",
        "#b = \"파이썬\n",
        "#만세\"\n",
        "\n",
        "print(a)\n",
        "\n",
        "# 부여된 순서 번호로 각 문자 접근\n",
        "a = '1$ 환율은 1100입니다.'\n",
        "a = 'currency exchange rates'\n",
        "print(\"=======================\")\n",
        "print(\"01234567890123456789012\")\n",
        "print(a)\n",
        "print(\"=======================\")\n",
        "print(a[0])\n",
        "print(a[1])\n",
        "print(a[-1])\n",
        "print(a[-2])\n",
        "print(a[7:14])"
      ]
    },
    {
      "cell_type": "markdown",
      "metadata": {
        "id": "MS9U5cnFdeiO"
      },
      "source": [
        "**문자열 \"100\" vs 숫자 100**"
      ]
    },
    {
      "cell_type": "code",
      "execution_count": 8,
      "metadata": {
        "colab": {
          "base_uri": "https://localhost:8080/"
        },
        "id": "6n_2mGfidid7",
        "outputId": "bf2196ac-1f92-48cd-a763-f4717d562e11"
      },
      "outputs": [
        {
          "name": "stdout",
          "output_type": "stream",
          "text": [
            "<class 'int'>\n",
            "<class 'str'>\n",
            "200\n",
            "100100\n"
          ]
        }
      ],
      "source": [
        "num =100\n",
        "strNum = \"100\"\n",
        "\n",
        "print (type(num))\n",
        "print (type(strNum))\n",
        "\n",
        "print(num+num)\n",
        "print(strNum+strNum)\n",
        "#print(strNum + num)"
      ]
    },
    {
      "cell_type": "markdown",
      "metadata": {
        "id": "oNWRXR1pdxg4"
      },
      "source": [
        "**05 수식의 표현**"
      ]
    },
    {
      "cell_type": "code",
      "execution_count": 9,
      "metadata": {
        "colab": {
          "base_uri": "https://localhost:8080/"
        },
        "id": "agmf8Y0_d0CN",
        "outputId": "b9922bdf-0883-4e19-b2f3-2ad37f593b6a"
      },
      "outputs": [
        {
          "name": "stdout",
          "output_type": "stream",
          "text": [
            "8 2 15 1.6666666666666667 1 2 125\n",
            "7 9\n",
            "11 13\n",
            "연산자 우선 순위\n",
            "1 14 2.75\n"
          ]
        }
      ],
      "source": [
        "a = 5; b =3\n",
        "print(a+b, a-b, a*b, a/b, a//b, a%b, a**b)\n",
        "\n",
        "c = 7; d = 9\n",
        "print(c,d)\n",
        "\n",
        "e, f = 11,13\n",
        "print(e,f)\n",
        "\n",
        "#연산자 우선 순위\n",
        "print(\"연산자 우선 순위\")\n",
        "a , b, c = 2,3,4\n",
        "print(a+b-c, a +b *c, a+b/c)"
      ]
    },
    {
      "cell_type": "markdown",
      "metadata": {
        "id": "btjCaH2MeCBP"
      },
      "source": [
        "**10 입력과 출력**"
      ]
    },
    {
      "cell_type": "code",
      "execution_count": 12,
      "metadata": {
        "colab": {
          "base_uri": "https://localhost:8080/"
        },
        "id": "bQ-q5ytQeFAB",
        "outputId": "51c44b8f-d738-43ce-87ee-d4f5f1b7826c"
      },
      "outputs": [
        {
          "name": "stdout",
          "output_type": "stream",
          "text": [
            "Hello World!\n",
            "영어 점수를 입력히시오:90\n",
            "수학 점수를 입력하시오:98\n",
            "총점 =  9098\n",
            "영어 점수를 입력하시오:90\n",
            "수학 점수를 입력하시오:98\n",
            "총점 =  188\n",
            "이름을 입력하시오:김다인\n",
            "김다인님 반갑습니다.\n"
          ]
        }
      ],
      "source": [
        "print(\"Hello World!\")\n",
        "\n",
        "eng = input(\"영어 점수를 입력히시오:\")\n",
        "math = input(\"수학 점수를 입력하시오:\")\n",
        "totalScore = eng + math\n",
        "print(\"총점 = \", totalScore)\n",
        "\n",
        "eng = int(input(\"영어 점수를 입력하시오:\"))\n",
        "math = int(input(\"수학 점수를 입력하시오:\"))\n",
        "totalScore = eng + math\n",
        "print(\"총점 = \", totalScore)\n",
        "\n",
        "name = input('이름을 입력하시오:')\n",
        "print(name + '님 반갑습니다.')"
      ]
    }
  ],
  "metadata": {
    "colab": {
      "collapsed_sections": [],
      "name": "파이썬과데이터분석_실습1_융합콘텐츠학과_김다인_1944005.ipynb",
      "provenance": []
    },
    "kernelspec": {
      "display_name": "Python 3",
      "name": "python3"
    }
  },
  "nbformat": 4,
  "nbformat_minor": 0
}
