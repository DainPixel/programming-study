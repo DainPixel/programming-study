{
 "cells": [
  {
   "cell_type": "markdown",
   "metadata": {
    "id": "O9E9m_DUo6hI"
   },
   "source": [
    "**실습 02**"
   ]
  },
  {
   "cell_type": "code",
   "execution_count": 2,
   "metadata": {
    "colab": {
     "base_uri": "https://localhost:8080/"
    },
    "executionInfo": {
     "elapsed": 1540,
     "status": "ok",
     "timestamp": 1616764527346,
     "user": {
      "displayName": "Crunky35",
      "photoUrl": "https://lh3.googleusercontent.com/a-/AOh14Gjhajlc6EaX1u9RLruJXogPIH_ZSrh3a9QCH6JyhxM=s64",
      "userId": "15825311231464107163"
     },
     "user_tz": -540
    },
    "id": "LD6wsoKloR3O",
    "outputId": "dd3046c0-aa3d-489f-d688-e8658222bf29"
   },
   "outputs": [
    {
     "name": "stdout",
     "output_type": "stream",
     "text": [
      "프로그램 끝\n",
      "생수를 뽑는다\n",
      "물을 마신다\n",
      "시원하다\n"
     ]
    }
   ],
   "source": [
    "a = 200 \n",
    "\n",
    "#코드 수정하기\n",
    "if a < 100 :\n",
    "  print(\"100보다. 작군요\")\n",
    "  print(\"거짓이므로 이 문장은 안보이겠죠?\" ) \n",
    "\n",
    "print (\"프로그램 끝\") \n",
    "\n",
    "#들여쓰기 오류 주의\n",
    "\n",
    "money = 1000\n",
    "water = 500\n",
    "if water < money: \n",
    "  print(\"생수를 뽑는다\")\n",
    "  print(\"물을 마신다\")\n",
    "  print(\"시원하다\") "
   ]
  },
  {
   "cell_type": "markdown",
   "metadata": {
    "id": "wyspVjPbqyNl"
   },
   "source": [
    "**실습 06**"
   ]
  },
  {
   "cell_type": "code",
   "execution_count": 3,
   "metadata": {
    "colab": {
     "base_uri": "https://localhost:8080/"
    },
    "executionInfo": {
     "elapsed": 4622,
     "status": "ok",
     "timestamp": 1616764676260,
     "user": {
      "displayName": "Crunky35",
      "photoUrl": "https://lh3.googleusercontent.com/a-/AOh14Gjhajlc6EaX1u9RLruJXogPIH_ZSrh3a9QCH6JyhxM=s64",
      "userId": "15825311231464107163"
     },
     "user_tz": -540
    },
    "id": "n3DvZD2Tqz2S",
    "outputId": "700e495c-8b43-4ba0-da88-525a69ca35ce"
   },
   "outputs": [
    {
     "name": "stdout",
     "output_type": "stream",
     "text": [
      "점수를 입력하세요 : 92\n",
      "A\n",
      "학점입니다. ^^\n"
     ]
    }
   ],
   "source": [
    "score = int(input(\"점수를 입력하세요 : \")) \n",
    "\n",
    "if score >= 90 :\n",
    "  print(\"A\")\n",
    "elif score >= 80 :\n",
    "  print(\"B\")\n",
    "elif score >= 70 :\n",
    "  print(\"C\")\n",
    "elif score >= 60 :\n",
    "  print(\"D\")\n",
    "else :\n",
    "  print(\"F\")\n",
    "  \n",
    "print(\"학점입니다. ^^\") "
   ]
  },
  {
   "cell_type": "markdown",
   "metadata": {
    "id": "chKriYfqr1ap"
   },
   "source": [
    "**실습 08**"
   ]
  },
  {
   "cell_type": "code",
   "execution_count": 5,
   "metadata": {
    "colab": {
     "base_uri": "https://localhost:8080/"
    },
    "executionInfo": {
     "elapsed": 883,
     "status": "ok",
     "timestamp": 1616764958266,
     "user": {
      "displayName": "Crunky35",
      "photoUrl": "https://lh3.googleusercontent.com/a-/AOh14Gjhajlc6EaX1u9RLruJXogPIH_ZSrh3a9QCH6JyhxM=s64",
      "userId": "15825311231464107163"
     },
     "user_tz": -540
    },
    "id": "tDZft9GEr3KB",
    "outputId": "03dfd40b-25ea-4e45-e3b7-79923c6adddb"
   },
   "outputs": [
    {
     "name": "stdout",
     "output_type": "stream",
     "text": [
      "0123456789\n",
      "12345678910\n",
      "13579\n",
      "10987654321\n",
      "109876543210\n",
      "1에서 10까지의 합계 : 55\n"
     ]
    }
   ],
   "source": [
    "for n in range(10) : #random stop\n",
    "  print(n, end='')\n",
    "print() \n",
    "\n",
    "for n in range(1, 11) : #range(start, stop) \n",
    "  print(n, end='')\n",
    "print()\n",
    "\n",
    "for n in range(1, 11, 2) : #range(start, stop, step)\n",
    "  print(n, end='')\n",
    "print()\n",
    "\n",
    "for i in range(10, 0, -1): #10부터 1까지 출력\n",
    "  print(i, end='')\n",
    "print()\n",
    "\n",
    "for i in range(10, -1, -1): #10부터 까지 출력\n",
    "  print(i, end='')\n",
    "print()\n",
    "\n",
    "#for 문 내용을 코드로 작성\n",
    "\n",
    "#i = 0 \n",
    "i, hap = 0, 0.0 \n",
    "\n",
    "\n",
    "for i in range(1, 11, 1) :\n",
    "  hap = hap + i \n",
    "\n",
    "print(\"1에서 10까지의 합계 : %d\" % hap)"
   ]
  },
  {
   "cell_type": "markdown",
   "metadata": {
    "id": "XG1c4DNStH10"
   },
   "source": [
    "**실습 10 구구단 전체**"
   ]
  },
  {
   "cell_type": "code",
   "execution_count": 7,
   "metadata": {
    "colab": {
     "base_uri": "https://localhost:8080/"
    },
    "executionInfo": {
     "elapsed": 833,
     "status": "ok",
     "timestamp": 1616765470247,
     "user": {
      "displayName": "Crunky35",
      "photoUrl": "https://lh3.googleusercontent.com/a-/AOh14Gjhajlc6EaX1u9RLruJXogPIH_ZSrh3a9QCH6JyhxM=s64",
      "userId": "15825311231464107163"
     },
     "user_tz": -540
    },
    "id": "tuI2Uq_1tJxX",
    "outputId": "64fa08ff-e00a-4e6d-a378-f56d353365cf"
   },
   "outputs": [
    {
     "name": "stdout",
     "output_type": "stream",
     "text": [
      "1 x 1 =  1\n",
      "1 x 2 =  2\n",
      "1 x 3 =  3\n",
      "1 x 4 =  4\n",
      "1 x 5 =  5\n",
      "1 x 6 =  6\n",
      "1 x 7 =  7\n",
      "1 x 8 =  8\n",
      "1 x 9 =  9\n",
      "2 x 1 =  2\n",
      "2 x 2 =  4\n",
      "2 x 3 =  6\n",
      "2 x 4 =  8\n",
      "2 x 5 = 10\n",
      "2 x 6 = 12\n",
      "2 x 7 = 14\n",
      "2 x 8 = 16\n",
      "2 x 9 = 18\n",
      "3 x 1 =  3\n",
      "3 x 2 =  6\n",
      "3 x 3 =  9\n",
      "3 x 4 = 12\n",
      "3 x 5 = 15\n",
      "3 x 6 = 18\n",
      "3 x 7 = 21\n",
      "3 x 8 = 24\n",
      "3 x 9 = 27\n",
      "4 x 1 =  4\n",
      "4 x 2 =  8\n",
      "4 x 3 = 12\n",
      "4 x 4 = 16\n",
      "4 x 5 = 20\n",
      "4 x 6 = 24\n",
      "4 x 7 = 28\n",
      "4 x 8 = 32\n",
      "4 x 9 = 36\n",
      "5 x 1 =  5\n",
      "5 x 2 = 10\n",
      "5 x 3 = 15\n",
      "5 x 4 = 20\n",
      "5 x 5 = 25\n",
      "5 x 6 = 30\n",
      "5 x 7 = 35\n",
      "5 x 8 = 40\n",
      "5 x 9 = 45\n",
      "6 x 1 =  6\n",
      "6 x 2 = 12\n",
      "6 x 3 = 18\n",
      "6 x 4 = 24\n",
      "6 x 5 = 30\n",
      "6 x 6 = 36\n",
      "6 x 7 = 42\n",
      "6 x 8 = 48\n",
      "6 x 9 = 54\n",
      "7 x 1 =  7\n",
      "7 x 2 = 14\n",
      "7 x 3 = 21\n",
      "7 x 4 = 28\n",
      "7 x 5 = 35\n",
      "7 x 6 = 42\n",
      "7 x 7 = 49\n",
      "7 x 8 = 56\n",
      "7 x 9 = 63\n",
      "8 x 1 =  8\n",
      "8 x 2 = 16\n",
      "8 x 3 = 24\n",
      "8 x 4 = 32\n",
      "8 x 5 = 40\n",
      "8 x 6 = 48\n",
      "8 x 7 = 56\n",
      "8 x 8 = 64\n",
      "8 x 9 = 72\n",
      "9 x 1 =  9\n",
      "9 x 2 = 18\n",
      "9 x 3 = 27\n",
      "9 x 4 = 36\n",
      "9 x 5 = 45\n",
      "9 x 6 = 54\n",
      "9 x 7 = 63\n",
      "9 x 8 = 72\n",
      "9 x 9 = 81\n"
     ]
    }
   ],
   "source": [
    "i, dan = 0, 0 \n",
    "\n",
    "for dan in range(1, 10, 1) :\n",
    "  for i in range(1, 10, 1) :\n",
    "    print(\"%d x %d = %2d\" % (dan, i, dan * i))"
   ]
  },
  {
   "cell_type": "markdown",
   "metadata": {
    "id": "xWNBo7x8tLMO"
   },
   "source": [
    "**실습 11**"
   ]
  },
  {
   "cell_type": "code",
   "execution_count": 74,
   "metadata": {
    "colab": {
     "base_uri": "https://localhost:8080/"
    },
    "executionInfo": {
     "elapsed": 892,
     "status": "ok",
     "timestamp": 1616766279238,
     "user": {
      "displayName": "Crunky35",
      "photoUrl": "https://lh3.googleusercontent.com/a-/AOh14Gjhajlc6EaX1u9RLruJXogPIH_ZSrh3a9QCH6JyhxM=s64",
      "userId": "15825311231464107163"
     },
     "user_tz": -540
    },
    "id": "jy-upvNNtMYZ",
    "outputId": "5abc5e20-7115-4457-ff34-931c11ccd4d4"
   },
   "outputs": [
    {
     "name": "stdout",
     "output_type": "stream",
     "text": [
      " #  2 단  #   #  3 단  #   #  4 단  #   #  5 단  #   #  6 단  #   #  7 단  #   #  8 단  #   #  9 단  #  \n",
      " 2 X  1 =  2 3 X  1 =  3 4 X  1 =  4 5 X  1 =  5 6 X  1 =  6 7 X  1 =  7 8 X  1 =  8 9 X  1 =  9\n",
      " 2 X  2 =  4 3 X  2 =  6 4 X  2 =  8 5 X  2 = 10 6 X  2 = 12 7 X  2 = 14 8 X  2 = 16 9 X  2 = 18\n",
      " 2 X  3 =  6 3 X  3 =  9 4 X  3 = 12 5 X  3 = 15 6 X  3 = 18 7 X  3 = 21 8 X  3 = 24 9 X  3 = 27\n",
      " 2 X  4 =  8 3 X  4 = 12 4 X  4 = 16 5 X  4 = 20 6 X  4 = 24 7 X  4 = 28 8 X  4 = 32 9 X  4 = 36\n",
      " 2 X  5 = 10 3 X  5 = 15 4 X  5 = 20 5 X  5 = 25 6 X  5 = 30 7 X  5 = 35 8 X  5 = 40 9 X  5 = 45\n",
      " 2 X  6 = 12 3 X  6 = 18 4 X  6 = 24 5 X  6 = 30 6 X  6 = 36 7 X  6 = 42 8 X  6 = 48 9 X  6 = 54\n",
      " 2 X  7 = 14 3 X  7 = 21 4 X  7 = 28 5 X  7 = 35 6 X  7 = 42 7 X  7 = 49 8 X  7 = 56 9 X  7 = 63\n",
      " 2 X  8 = 16 3 X  8 = 24 4 X  8 = 32 5 X  8 = 40 6 X  8 = 48 7 X  8 = 56 8 X  8 = 64 9 X  8 = 72\n",
      " 2 X  9 = 18 3 X  9 = 27 4 X  9 = 36 5 X  9 = 45 6 X  9 = 54 7 X  9 = 63 8 X  9 = 72 9 X  9 = 81\n"
     ]
    }
   ],
   "source": [
    "# 전역 변수 선언 부분 #\n",
    "i, k, guguLine = 0, 0, \"\"\n",
    "\n",
    "# 메인 코드 부분 #\n",
    "for i in range(2, 10) : \n",
    "  guguLine = guguLine + (\" #  %d 단  #  \" % i) \n",
    "\n",
    "print (guguLine)\n",
    "\n",
    "for i in range(1, 10) : \n",
    "  guguLine = \"\"\n",
    "  for k in range (2, 10) : \n",
    "    guguLine = guguLine + str(\"%2d X %2d = %2d\" % (k, i, k*i))\n",
    "  print(guguLine) "
   ]
  },
  {
   "cell_type": "markdown",
   "metadata": {
    "id": "QTw1sd2PtNYk"
   },
   "source": [
    "**실습 19**"
   ]
  },
  {
   "cell_type": "code",
   "execution_count": 76,
   "metadata": {
    "colab": {
     "base_uri": "https://localhost:8080/"
    },
    "executionInfo": {
     "elapsed": 915,
     "status": "ok",
     "timestamp": 1616766568952,
     "user": {
      "displayName": "Crunky35",
      "photoUrl": "https://lh3.googleusercontent.com/a-/AOh14Gjhajlc6EaX1u9RLruJXogPIH_ZSrh3a9QCH6JyhxM=s64",
      "userId": "15825311231464107163"
     },
     "user_tz": -540
    },
    "id": "km_ToZyqtOeM",
    "outputId": "079613de-b2b3-4d2f-937a-2b13e9f08038"
   },
   "outputs": [
    {
     "name": "stdout",
     "output_type": "stream",
     "text": [
      "    ★\n",
      "   ★★★\n",
      "  ★★★★★\n",
      " ★★★★★★★\n",
      "★★★★★★★★★\n",
      " ★★★★★★★\n",
      "  ★★★★★\n",
      "   ★★★\n",
      "    ★\n"
     ]
    }
   ],
   "source": [
    "# 전역 변수 선언 부분 #\n",
    "i, k = 0, 0 \n",
    "\n",
    "# 메인 코드 부분 #\n",
    "i = 0\n",
    "while i < 9 : \n",
    "  if i < 5: \n",
    "    k = 0\n",
    "    while k < 4-i : \n",
    "      print(' ', end = '')\n",
    "      k += 1\n",
    "    k = 0\n",
    "    while k < i*2+1 : \n",
    "      print('\\u2605', end = '') \n",
    "      k += 1\n",
    "  else : \n",
    "    k = 0 \n",
    "    while k < i-4 : \n",
    "      print(' ', end = '') \n",
    "      k += 1\n",
    "    k = 0\n",
    "    while k < (9-i)*2-1 : \n",
    "      print('\\u2605', end = '') \n",
    "      k += 1\n",
    "  print()\n",
    "  i+=1 "
   ]
  },
  {
   "cell_type": "markdown",
   "metadata": {
    "id": "zOwpsNeWtPix"
   },
   "source": [
    "**Print 실습**"
   ]
  },
  {
   "cell_type": "code",
   "execution_count": 80,
   "metadata": {
    "colab": {
     "base_uri": "https://localhost:8080/"
    },
    "executionInfo": {
     "elapsed": 901,
     "status": "ok",
     "timestamp": 1616767173785,
     "user": {
      "displayName": "Crunky35",
      "photoUrl": "https://lh3.googleusercontent.com/a-/AOh14Gjhajlc6EaX1u9RLruJXogPIH_ZSrh3a9QCH6JyhxM=s64",
      "userId": "15825311231464107163"
     },
     "user_tz": -540
    },
    "id": "HGcrTvK1tQq4",
    "outputId": "6c222a88-78ee-46a7-d371-bd26342f316e"
   },
   "outputs": [
    {
     "name": "stdout",
     "output_type": "stream",
     "text": [
      "Hello\n",
      "100\n",
      "100, 200\n",
      "100/200=  0.5\n",
      "123\n",
      "  123\n",
      "00123\n",
      "123.450000\n",
      "  123.5\n",
      "123.450\n",
      "Python\n",
      "    Python\n",
      "\n",
      "줄바꿈\n",
      "연습\n",
      "\t키\t 연습\n",
      "\\\\\\역슬래시 3개 출력\n",
      "줄바꿈 기호:\\n\n",
      "탭 키 기호 :\\t\n",
      "줄바꾸기\n",
      "줄바꿈\n",
      "줄바꾸지 말기 같은 줄에 출력\n"
     ]
    }
   ],
   "source": [
    "print(\"Hello\") \n",
    "\n",
    "print(\"%d\" %100) \n",
    "\n",
    "#출력할 데이터가 여러 개일 때 서식과 숫자의 대응\n",
    "print(\"%d, %d\" %(100, 200)) \n",
    "\n",
    "#오류\n",
    "#print(\"%d\" %(100, 200))\n",
    "#print(\"%d, %d\" %(100))\n",
    "\n",
    "print(\"%d/%d=%5.1f\"%(100, 200,0.5))\n",
    "\n",
    "print(\"%d\" %123)\n",
    "print(\"%5d\" %123)\n",
    "print(\"%05d\" %123)\n",
    "print(\"%f\" %123.45)\n",
    "print(\"%7.1f\" %123.45)\n",
    "print(\"%7.3f\" %123.45) \n",
    "\n",
    "print(\"%s\" %\"Python\")\n",
    "print(\"%10s\" %\"Python\") \n",
    "\n",
    "#오류 수정\n",
    "#print(\"Error is %d%, \"%98)\n",
    "\n",
    "#특수 문자를 표현하는 역슬래시로 이루어진 특수 표기법\n",
    "\n",
    "print(\"\\n줄바꿈\\n연습\")\n",
    "print(\"\\t키\\t 연습\")\n",
    "print(\"\\\\\\\\\\역슬래시 3개 출력\")\n",
    "print(\"줄바꿈 기호:\\\\n\")\n",
    "print(\"탭 키 기호 :\\\\t\") \n",
    "\n",
    "print(\"줄바꾸기\")\n",
    "print(\"줄바꿈\")\n",
    "print(\"줄바꾸지 말기\", end=' ')\n",
    "print(\"같은 줄에 출력\") "
   ]
  }
 ],
 "metadata": {
  "colab": {
   "authorship_tag": "ABX9TyM0HTcF7jVOdo0C8vb7AQh8",
   "collapsed_sections": [],
   "name": "파이썬과데이터분석_실습2_융합콘텐츠학과_김다인_1944005.ipynb",
   "provenance": []
  },
  "kernelspec": {
   "display_name": "Python 3",
   "name": "python3"
  },
  "language_info": {
   "name": "python"
  }
 },
 "nbformat": 4,
 "nbformat_minor": 0
}
